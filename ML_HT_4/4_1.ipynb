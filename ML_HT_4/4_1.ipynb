{
 "cells": [
  {
   "cell_type": "code",
   "execution_count": 4,
   "metadata": {},
   "outputs": [],
   "source": [
    "import pandas as pd\n",
    "import numpy as np\n",
    "\n",
    "\n",
    "alldata = pd.read_csv(\"titanic.tsv\", sep='\\t')\n",
    "\n",
    "data_before = alldata\n",
    "alldata[\"Sex\"] = alldata[\"Sex\"].apply(\n",
    "    lambda x: 0 if x in [\"male\"] else 1\n",
    ")\n",
    "\n",
    "alldata = alldata.rename(columns={\"Sex\" : \"Is female\"})\n",
    "\n",
    "del alldata[\"Cabin\"]\n",
    "del alldata[\"Name\"]\n",
    "\n",
    "alldata = alldata[pd.notna(alldata[\"Age\"])]\n",
    "alldata = alldata[pd.notna(alldata[\"Embarked\"])]\n",
    "\n",
    "alldata = pd.get_dummies(alldata, columns=[\"Embarked\"])\n",
    "\n",
    "alldata[\"SOTON ticket\"] = alldata[\"Ticket\"].apply(\n",
    "    lambda x: True if \"SOTON\" in x else False\n",
    ")\n",
    "\n",
    "alldata[\"STON ticket\"] = alldata[\"Ticket\"].apply(\n",
    "    lambda x: True if \"STON\" in x else False\n",
    ")\n",
    "\n",
    "alldata[\"C.A. ticket\"] = alldata[\"Ticket\"].apply(\n",
    "    lambda x: True if \"C.A\" in x else False\n",
    ")\n",
    "\n",
    "alldata[\"PC ticket\"] = alldata[\"Ticket\"].apply(\n",
    "    lambda x: True if \"PC\" in x else False\n",
    ")\n",
    "\n",
    "alldata[\"Undefined ticket\"] = alldata[\"Ticket\"].apply(\n",
    "    lambda x: True if x.isnumeric() else False\n",
    ")\n",
    "\n",
    "alldata[\"Other tickets\"] = alldata[\"Ticket\"].apply(\n",
    "    lambda x: False \n",
    "        if \"SOTON\" in x or \"STON\" in x or \"C.A.\" in x\n",
    "        or \"PC\" in x or x.isnumeric()\n",
    "        else True\n",
    ")\n",
    "\n",
    "del alldata[\"Ticket\"]"
   ]
  },
  {
   "cell_type": "code",
   "execution_count": 5,
   "metadata": {},
   "outputs": [
    {
     "name": "stdout",
     "output_type": "stream",
     "text": [
      "Before changes\n",
      "     Survived  PassengerId  Pclass  \\\n",
      "0           0          530       2   \n",
      "1           0          466       3   \n",
      "2           0          753       3   \n",
      "3           0          855       2   \n",
      "4           0          333       1   \n",
      "..        ...          ...     ...   \n",
      "618         0          660       1   \n",
      "619         1           85       2   \n",
      "620         1          521       1   \n",
      "621         1          644       3   \n",
      "622         1          831       3   \n",
      "\n",
      "                                               Name  Sex   Age  SibSp  Parch  \\\n",
      "0                      Hocking\\t Mr. Richard George    0  23.0      2      1   \n",
      "1                  Goncalves\\t Mr. Manuel Estanslas    0  38.0      0      0   \n",
      "2                 Vande Velde\\t Mr. Johannes Joseph    0  33.0      0      0   \n",
      "3    Carter\\t Mrs. Ernest Courtenay (Lilian Hughes)    1  44.0      1      0   \n",
      "4                        Graham\\t Mr. George Edward    0  38.0      0      1   \n",
      "..                                              ...  ...   ...    ...    ...   \n",
      "618                     Newell\\t Mr. Arthur Webster    0  58.0      0      2   \n",
      "619                            Ilett\\t Miss. Bertha    1  17.0      0      0   \n",
      "620                          Perreault\\t Miss. Anne    1  30.0      0      0   \n",
      "621                                Foo\\t Mr. Choong    0   NaN      0      0   \n",
      "622        Yasbeck\\t Mrs. Antoni (Selini Alexander)    1  15.0      1      0   \n",
      "\n",
      "                 Ticket      Fare Cabin Embarked  \n",
      "0                 29104   11.5000   NaN        S  \n",
      "1    SOTON/O.Q. 3101306    7.0500   NaN        S  \n",
      "2                345780    9.5000   NaN        S  \n",
      "3                244252   26.0000   NaN        S  \n",
      "4              PC 17582  153.4625   C91        S  \n",
      "..                  ...       ...   ...      ...  \n",
      "618               35273  113.2750   D48        C  \n",
      "619          SO/C 14885   10.5000   NaN        S  \n",
      "620               12749   93.5000   B73        S  \n",
      "621                1601   56.4958   NaN        S  \n",
      "622                2659   14.4542   NaN        C  \n",
      "\n",
      "[623 rows x 12 columns]\n"
     ]
    }
   ],
   "source": [
    "print(\"Before changes\")\n",
    "print(data_before)"
   ]
  },
  {
   "cell_type": "code",
   "execution_count": 6,
   "metadata": {},
   "outputs": [
    {
     "name": "stdout",
     "output_type": "stream",
     "text": [
      "After changes\n",
      "     Survived  PassengerId  Pclass  Is female   Age  SibSp  Parch      Fare  \\\n",
      "0           0          530       2          0  23.0      2      1   11.5000   \n",
      "1           0          466       3          0  38.0      0      0    7.0500   \n",
      "2           0          753       3          0  33.0      0      0    9.5000   \n",
      "3           0          855       2          1  44.0      1      0   26.0000   \n",
      "4           0          333       1          0  38.0      0      1  153.4625   \n",
      "..        ...          ...     ...        ...   ...    ...    ...       ...   \n",
      "617         1          609       2          1  22.0      1      2   41.5792   \n",
      "618         0          660       1          0  58.0      0      2  113.2750   \n",
      "619         1           85       2          1  17.0      0      0   10.5000   \n",
      "620         1          521       1          1  30.0      0      0   93.5000   \n",
      "622         1          831       3          1  15.0      1      0   14.4542   \n",
      "\n",
      "     Embarked_C  Embarked_Q  Embarked_S  SOTON ticket  STON ticket  \\\n",
      "0             0           0           1         False        False   \n",
      "1             0           0           1          True        False   \n",
      "2             0           0           1         False        False   \n",
      "3             0           0           1         False        False   \n",
      "4             0           0           1         False        False   \n",
      "..          ...         ...         ...           ...          ...   \n",
      "617           1           0           0         False        False   \n",
      "618           1           0           0         False        False   \n",
      "619           0           0           1         False        False   \n",
      "620           0           0           1         False        False   \n",
      "622           1           0           0         False        False   \n",
      "\n",
      "     C.A. ticket  PC ticket  Undefined ticket  Other tickets  \n",
      "0          False      False              True          False  \n",
      "1          False      False             False          False  \n",
      "2          False      False              True          False  \n",
      "3          False      False              True          False  \n",
      "4          False       True             False          False  \n",
      "..           ...        ...               ...            ...  \n",
      "617        False      False             False           True  \n",
      "618        False      False              True          False  \n",
      "619        False      False             False           True  \n",
      "620        False      False              True          False  \n",
      "622        False      False              True          False  \n",
      "\n",
      "[498 rows x 17 columns]\n"
     ]
    }
   ],
   "source": [
    "print(\"After changes\")\n",
    "print(alldata)"
   ]
  }
 ],
 "metadata": {
  "kernelspec": {
   "display_name": "Python 3.10.8 64-bit (microsoft store)",
   "language": "python",
   "name": "python3"
  },
  "language_info": {
   "codemirror_mode": {
    "name": "ipython",
    "version": 3
   },
   "file_extension": ".py",
   "mimetype": "text/x-python",
   "name": "python",
   "nbconvert_exporter": "python",
   "pygments_lexer": "ipython3",
   "version": "3.10.8"
  },
  "orig_nbformat": 4,
  "vscode": {
   "interpreter": {
    "hash": "03d9e96756da8e108db6c3e19acf917b5c1d94563e96b169f2e9316759d4634e"
   }
  }
 },
 "nbformat": 4,
 "nbformat_minor": 2
}
