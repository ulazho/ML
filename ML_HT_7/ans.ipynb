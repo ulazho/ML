{
 "cells": [
  {
   "cell_type": "code",
   "execution_count": 18,
   "metadata": {},
   "outputs": [],
   "source": [
    "import numpy as np \n",
    "import pandas as pd\n",
    "from sklearn.linear_model import LinearRegression\n",
    "from sklearn.linear_model import Ridge\n",
    "from sklearn.preprocessing import StandardScaler\n",
    "from sklearn.model_selection import train_test_split\n",
    "import matplotlib.pyplot as plt\n",
    "from sklearn.metrics import mean_squared_error\n",
    "from sklearn.linear_model import Ridge\n",
    "\n",
    "data = pd.read_csv(\"communities.data\")\n",
    "data = data.replace(\"?\", np.nan)\n",
    "atributes = pd.read_csv(\"attributes.csv\")\n",
    "\n",
    "atributes = atributes.columns.to_list()\n",
    "\n",
    "\n",
    "\n",
    "data_df = pd.DataFrame(data)\n",
    "data_df.columns = atributes\n",
    "data_df = data_df.sample(frac=1)\n",
    "\n",
    "data_df = data_df.dropna(axis=\"columns\")\n",
    "atributes = data_df.columns\n",
    "\n",
    "\n",
    "features = [x for x in atributes if x != \"ViolentCrimesPerPop\" and x != 'communityname']\n",
    "\n",
    "\n",
    "data_train, data_test = train_test_split(data_df, test_size=0.2)\n",
    "\n",
    "\n",
    "\n",
    "data_train_x = pd.DataFrame(data_train[features])\n",
    "data_train_y = pd.DataFrame(data_train['ViolentCrimesPerPop'])\n",
    "data_test_x = pd.DataFrame(data_test[features])\n",
    "data_test_y = pd.DataFrame(data_test['ViolentCrimesPerPop'])\n"
   ]
  },
  {
   "cell_type": "code",
   "execution_count": 19,
   "metadata": {},
   "outputs": [
    {
     "name": "stdout",
     "output_type": "stream",
     "text": [
      "MSE without regularization 0.017533759052173446\n"
     ]
    }
   ],
   "source": [
    "model = LinearRegression()\n",
    "model.fit(data_train_x, data_train_y.values.ravel())\n",
    "\n",
    "\n",
    "\n",
    "data_test_y_predicted = model.predict(data_test_x)\n",
    "\n",
    "print(f\"MSE without regularization {mean_squared_error(data_test_y, data_test_y_predicted)}\")"
   ]
  },
  {
   "cell_type": "code",
   "execution_count": 20,
   "metadata": {},
   "outputs": [
    {
     "name": "stdout",
     "output_type": "stream",
     "text": [
      "MSE with regularization 0.017120415689739932\n"
     ]
    }
   ],
   "source": [
    "min = 2\n",
    "for x in np.arange(1, 7):\n",
    "\n",
    "    clf = Ridge(alpha=x)\n",
    "    clf.fit(data_train_x, data_train_y.values.ravel())\n",
    "    clf_predicted = clf.predict(data_test_x)\n",
    "    if(min > mean_squared_error(data_test_y, clf_predicted)):\n",
    "        min = mean_squared_error(data_test_y, clf_predicted)\n",
    "        min_count = x\n",
    "print(f\"MSE with regularization {min}\")"
   ]
  }
 ],
 "metadata": {
  "kernelspec": {
   "display_name": "Python 3.10.8 ('venv': venv)",
   "language": "python",
   "name": "python3"
  },
  "language_info": {
   "codemirror_mode": {
    "name": "ipython",
    "version": 3
   },
   "file_extension": ".py",
   "mimetype": "text/x-python",
   "name": "python",
   "nbconvert_exporter": "python",
   "pygments_lexer": "ipython3",
   "version": "3.10.8"
  },
  "orig_nbformat": 4,
  "vscode": {
   "interpreter": {
    "hash": "f37486876ad4b243625dcab03485f0edb2a22cb7fa9db711ceb1161e85adf5f1"
   }
  }
 },
 "nbformat": 4,
 "nbformat_minor": 2
}
